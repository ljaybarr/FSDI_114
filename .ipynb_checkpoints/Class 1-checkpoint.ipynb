{
 "cells": [
  {
   "cell_type": "code",
   "execution_count": 2,
   "id": "08ba9c49-7859-4c2e-9693-490e91203b65",
   "metadata": {},
   "outputs": [
    {
     "name": "stdout",
     "output_type": "stream",
     "text": [
      "h\n",
      "e\n",
      "l\n",
      "l\n",
      "o\n",
      ",\n",
      " \n",
      "w\n",
      "o\n",
      "r\n",
      "l\n",
      "d\n",
      "!\n"
     ]
    }
   ],
   "source": [
    "for char in \"hello, world!\":\n",
    "    print(char)\n",
    "\n",
    "# after typing this, press shift+enter"
   ]
  },
  {
   "cell_type": "markdown",
   "id": "2969a4bc-0d19-4d91-8d4f-7d77e04abc9e",
   "metadata": {},
   "source": [
    "# Problem 1\n",
    "## Anagram Check\n",
    "Create a function, called `anagram_check` that takes two strings as parameters and returns True if these are anagrams of each other, and False otherwise.\n",
    "\n",
    "### Criteria\n",
    "Two strings are said to be *anagrams* of each other if all the criteria below are met:\n",
    "1. They must contain the same amount of letters.\n",
    "2. They must use the same letters the same amount of times.\n",
    "\n",
    "### Examples\n",
    "```\n",
    "heart and earth\n",
    "scar and cars\n",
    "rats and star\n",
    "aabb and baba\n",
    "```"
   ]
  },
  {
   "cell_type": "markdown",
   "id": "b915c64d-e939-49cd-ae14-632b74080d4a",
   "metadata": {},
   "source": [
    "# Pseudocode for problem 1 (one possible solution)\n",
    "```\n",
    "define function \"anagram_check\" which recieves string1 and string2 as parameters:\n",
    "    string1 = string1 without spaces and in lower case\n",
    "    string2 = string2 without spaces and in lower case\n",
    "    if string1 and string2 are not of equal length:\n",
    "        return False\n",
    "    dict1 = new dictionary\n",
    "    dict2 = new dictionary\n",
    "    for each \"number\" in the range between 0 and the length of string1:\n",
    "        if the character at position \"number\" in string1 is in dict1:\n",
    "            add 1 to the value associated with that character # this represents how many times we've seen that character\n",
    "        else:\n",
    "            create a new dictionary entry with the character at position \"number\" setting its value to 1\n",
    "        if the character at position \"number\" in string2 is in dict2:\n",
    "            add 1 to the value associated with that character # this represents how many times we've seen that character\n",
    "        else:\n",
    "            create a new dictionary entry with the character at position \"number\" setting its value to 1\n",
    "    if dict1 is equal to dict2:\n",
    "        return True\n",
    "    otherwise:\n",
    "        return False\n",
    "```"
   ]
  },
  {
   "cell_type": "code",
   "execution_count": 10,
   "id": "d9a3b3a0-4af5-4ebd-b482-4e69a49b6211",
   "metadata": {},
   "outputs": [
    {
     "name": "stdout",
     "output_type": "stream",
     "text": [
      "cars {'c': 1, 'a': 1, 'r': 1, 's': 1} scar {'s': 1, 'c': 1, 'a': 1, 'r': 1}\n",
      "heart {'h': 1, 'e': 1, 'a': 1, 'r': 1, 't': 1} earth {'e': 1, 'a': 1, 'r': 1, 't': 1, 'h': 1}\n",
      "rats {'r': 1, 'a': 1, 't': 1, 's': 1} star {'s': 1, 't': 1, 'a': 1, 'r': 1}\n",
      "aabb {'a': 2, 'b': 2} baba {'b': 2, 'a': 2}\n"
     ]
    },
    {
     "data": {
      "text/plain": [
       "True"
      ]
     },
     "execution_count": 10,
     "metadata": {},
     "output_type": "execute_result"
    }
   ],
   "source": [
    "def anagram_check(string1, string2):\n",
    "    string1 = string1.replace(\" \",\"\").lower()\n",
    "    string2 = string2.replace(\" \",\"\").lower()\n",
    "    if len(string1) != len(string2):\n",
    "        return False\n",
    "    dict1 = {}\n",
    "    dict2 = {}\n",
    "    for num in range(len(string1)):\n",
    "        if string1[num] in dict1:\n",
    "            dict1[string1[num]] += 1\n",
    "        else:\n",
    "            dict1[string1[num]] = 1\n",
    "        if string2[num] in dict2:\n",
    "            dict2[string2[num]] += 1\n",
    "        else:\n",
    "            dict2[string2[num]] = 1\n",
    "    print(string1, dict1, string2, dict2)\n",
    "    if dict1 == dict2:\n",
    "        return True\n",
    "    if dict1 != dict2:\n",
    "        return False\n",
    "\n",
    "anagram_check(\"cars\", \"scar\")\n",
    "anagram_check(\"heart\", \"earth\")\n",
    "anagram_check(\"rats\", \"star\")\n",
    "anagram_check(\"aabb\", \"baba\")"
   ]
  },
  {
   "cell_type": "code",
   "execution_count": null,
   "id": "8cf86b7b-42c0-4f8d-bd40-d6d58e591f9d",
   "metadata": {},
   "outputs": [],
   "source": []
  }
 ],
 "metadata": {
  "kernelspec": {
   "display_name": "Python 3 (ipykernel)",
   "language": "python",
   "name": "python3"
  },
  "language_info": {
   "codemirror_mode": {
    "name": "ipython",
    "version": 3
   },
   "file_extension": ".py",
   "mimetype": "text/x-python",
   "name": "python",
   "nbconvert_exporter": "python",
   "pygments_lexer": "ipython3",
   "version": "3.10.12"
  }
 },
 "nbformat": 4,
 "nbformat_minor": 5
}
